{
 "cells": [
  {
   "cell_type": "markdown",
   "metadata": {},
   "source": [
    "# Explore SQL query types\n",
    "\n",
    "## SQL Query Basics\n",
    "\n",
    "SQL query has following format:\n",
    "\n",
    "`SELECT <select_list>\n",
    "    [FROM <optional_from_specification>]\n",
    "    [WHERE <optional_filter_condition>]\n",
    "    [ORDER BY <optional_sort_specification>]\n",
    "    [JOIN <optional_join_specification>]`"
   ]
  },
  {
   "cell_type": "markdown",
   "metadata": {},
   "source": [
    "## SELECT clause\n",
    "The `SELECT` clause determines the type of values that will be produced when the query is executed. `SELECT *` indicates entire JSON document is returned."
   ]
  },
  {
   "cell_type": "markdown",
   "metadata": {},
   "source": [
    "## FROM clause\n",
    "The `FROM` clause specifies the data source upon which the query operates. You can make the whole container the source of the query or you can specify a subset of the container instead. The `FROM` clause is optional unless the source is filtered or projected later in the query.\n",
    "\n",
    "A query such as `SELECT * FROM Products` indicates that the entire Products container is the source over which to enumerate the query.\n"
   ]
  },
  {
   "cell_type": "markdown",
   "metadata": {},
   "source": [
    "## Using aliases\n",
    "A container can be *aliased* with the `AS` keyword. This allow syou to refer to the container using a shorter or more desriptive name.Ie.\n",
    "\n",
    "`SELECT p.id FROM Products AS p`\n",
    "\n",
    "Allows you to use `p` in place of `Products` - noteice we now use the shorter form `p.id`. You can omit the `AS` keyword `SELECT p.id FROM Products p`\n",
    "\n",
    "After aliased the original source can't be bound. For example `SELECT Products.id FROM Products p` is syntactically invalid because the identifier \"Products\" can't be resolved anymore.\n",
    "\n",
    "All properties that need to be references must be fully qualified. In the absence of strict schema adherence, this is enforced to avoid any ambiguous bingings. Therefore, `SELECT id FROM Products p` is syntactically invalid because the property `id` is not bound."
   ]
  },
  {
   "cell_type": "markdown",
   "metadata": {},
   "source": [
    "## Subdocuments in a FROM clause\n",
    "Any defined valid JSON value that can be found in the source is considered for inclusion in the result of the query.\n",
    "\n",
    "For example if shipping is an array in 2 JSON objects we can get the output by using\n",
    "`SELECT * FROM Products.shipping`\n"
   ]
  },
  {
   "cell_type": "markdown",
   "metadata": {},
   "source": [
    "## WHERE clause\n",
    "The `WHERE` clause specifies the conditions that the source JSON documents must satisfy to be included as part of the result. Any JSON document must evaluate the specified contitions to be true to be considered for the result. The `WHERE` clause is optional. Ie\n",
    "\n",
    "`SELECT p.description\n",
    "    FROM Products p\n",
    "    WHERE p.id=\"1\"`"
   ]
  },
  {
   "cell_type": "markdown",
   "metadata": {},
   "source": [
    "## ORDER BY clause\n",
    "The `ORDER BY` clause enables you to order the results in ascending or descending order.\n",
    "The following `ORDER BY` query returns the price, description, and product ID for all products, ordered by price in ascending order:\n",
    "\n",
    "`SELECT p.price, p.description, p.productId\n",
    "    FROM Products p\n",
    "    ORDER BY p.price ASC`"
   ]
  },
  {
   "cell_type": "markdown",
   "metadata": {},
   "source": [
    "## JOIN clause\n",
    "The `JOIN` clause lets you perform *inner joins* with the document subroots. So in the product database, for example, you can join the documents with the shipping data.\n",
    "\n",
    "In the following query, the product IDs are returned for each product that has a shipping method. If you added a third product that didn't have a shipping property, the result would be the same because the third item would be excluded for not having a shipping property\n",
    "\n",
    "`SELECT p.productId\n",
    "    FROM Products p\n",
    "    JOIN p.shipping`"
   ]
  },
  {
   "cell_type": "markdown",
   "metadata": {},
   "source": [
    "## Geospatial queries\n",
    "Geospatial queries enable you to perform spatial queries using GeoJSON Points. Using the coordinates in the database, you can calculate the distance between two points and determine whether a Point, Polygon, or LineString is within another Point, Polygon, or LineString.\n",
    "\n",
    "For product catalog data, this would enable your users to enter their location information and determine whether there were any stores within a 50-mile radius that have the item they're looking for."
   ]
  },
  {
   "cell_type": "markdown",
   "metadata": {},
   "source": [
    "## Default\n",
    "`SELECT * FROM c` gets all documents in the container."
   ]
  },
  {
   "cell_type": "markdown",
   "metadata": {},
   "source": [
    "# Stored Procedures and User defined fucntions\n",
    "## Stored procedure basics\n",
    "Stored procedures are the only way to ensure ACID (Atomicity, Consistency, Isolation, Durability) transactions because they are run on the server, and are thus referred to as server-side programming. UDFs are also stored on the server and are used during queries to perform computational logic on values or documents within the query.\n",
    "\n",
    "Stored procedures perform complex transactions on documents and properties. Stored procedures are written in JavaScript and are stored in a container on Azure Cosmos DB. By performing the stored procedures on the database engine and close to the data, you can improve performance over client-side programming.\n",
    "Stored procedures are the only way to achieve atomic transactions within Azure Cosmos DB; the client-side SDKs do not support transactions.\n",
    "\n",
    "Performing batch operations in stored procedures is also recommended because of the reduced need to create separate transactions.\n",
    "\n",
    "Can run stored procedures direclty from Data Explorer by inputting required values into a blade that pops up when you execute."
   ]
  },
  {
   "cell_type": "markdown",
   "metadata": {},
   "source": [
    "## User-defined function basics\n",
    "UDF's are usedc to extend the Azure Cosmos DB SQL query language grammar and implement custom business logic, such as calculations on properties and documents. UDF's can be called only from inside queries and, unlike stored procedures, they do not have access to the context object, so they cannot read or write documents.\n",
    "\n",
    "In an online commerce scenario, a UDF could be used to determine the sales tax to apply to an order total or a percentage discount to apply to products or orders.\n",
    "\n",
    "Running a userdefined function in a query: \n",
    "\n",
    "`SELECT c.id, c.productId, c.price, udf.producttax(c.price) AS producttax FROM c`"
   ]
  },
  {
   "cell_type": "code",
   "execution_count": null,
   "metadata": {},
   "outputs": [],
   "source": []
  }
 ],
 "metadata": {
  "kernelspec": {
   "display_name": "Python 3",
   "language": "python",
   "name": "python3"
  },
  "language_info": {
   "codemirror_mode": {
    "name": "ipython",
    "version": 3
   },
   "file_extension": ".py",
   "mimetype": "text/x-python",
   "name": "python",
   "nbconvert_exporter": "python",
   "pygments_lexer": "ipython3",
   "version": "3.8.4"
  }
 },
 "nbformat": 4,
 "nbformat_minor": 4
}
