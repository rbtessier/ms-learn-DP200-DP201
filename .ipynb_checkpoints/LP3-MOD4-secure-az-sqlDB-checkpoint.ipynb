{
 "cells": [
  {
   "cell_type": "markdown",
   "metadata": {},
   "source": [
    "# Secure your Azure SQL Database\n",
    "Secure your Azure SQL Database to keep your data secure and diagnose potential security concerns as they happen.\n",
    "\n",
    "In this module, you will:\n",
    "\n",
    "1. Control network access to your Azure SQL Database using firewall rules\n",
    "2. Control user access to your Azure SQL Database using authentication and authorization\n",
    "3. Protect your data in transit and at rest\n",
    "4. Audit and monitor your Azure SQL Database for access violations"
   ]
  },
  {
   "cell_type": "markdown",
   "metadata": {},
   "source": [
    "## Exercise - Secure a database\n",
    "First, to show how to secure your database, set up the following resources\n",
    "- A Linux VM named appServer. This server will act as the application server that users would be connecting to, and will need to connect to the database. We'll install sqlcmd on the VM to simulate an application running on appServer making connections to the database.\n",
    "- An Azure SQL Database logical server. This logical server is needed to host one or more databases.\n",
    "- A database on our logical server called marketplaceDb. We'll create it using the AdventureWorksLT demo database so we have some tables and data to work with. This will include some sensitive data, such as email addresses and phone numbers that we'll want to make sure are properly secured."
   ]
  },
  {
   "cell_type": "markdown",
   "metadata": {},
   "source": [
    "### Create Azure SQL DB\n",
    "\n",
    "Step 1: In Bash set up variables \n",
    "\n",
    "Set an admin login and password for your database\n",
    "\n",
    "`export ADMINLOGIN='[ServerAdmin]'\n",
    "export PASSWORD='[password]'`\n",
    "\n",
    "Set the logical SQL server name. We'll add a random string as it needs to be globally unique.\n",
    "\n",
    "`export SERVERNAME=server$RANDOM\n",
    "export RESOURCEGROUP=learn-070869d0-8594-4673-8283-02d536c2e17d`\n",
    "\n",
    "Set the location, we'll pull the location from our resource group. REMEMBER THIS\n",
    "\n",
    "`export LOCATION=$(az group show --name $RESOURCEGROUP | jq -r '.location')`"
   ]
  },
  {
   "cell_type": "markdown",
   "metadata": {},
   "source": [
    "Step 2: Create Azure SQL DB logical server\n",
    "\n",
    "`az sql server create \\\n",
    "    --name $SERVERNAME \\\n",
    "    --resource-group $RESOURCEGROUP \\\n",
    "    --location $LOCATION \\\n",
    "    --admin-user $ADMINLOGIN \\\n",
    "    --admin-password \"$PASSWORD\"`\n",
    "   "
   ]
  },
  {
   "cell_type": "markdown",
   "metadata": {},
   "source": [
    "Step 3: Create the `marketplaceDb` on the logical server just created, use *AdventureWorksLT* databse as template\n",
    "\n",
    "`az sql db create --resource-group $RESOURCEGROUP \\\n",
    "    --server $SERVERNAME \\\n",
    "    --name marketplaceDb \\\n",
    "    --sample-name AdventureWorksLT \\\n",
    "    --service-objective Basic`"
   ]
  },
  {
   "cell_type": "markdown",
   "metadata": {},
   "source": [
    "Step 4: Get connection string for DB\n",
    "\n",
    "`az sql db show-connection-string --client sqlcmd --name marketplaceDb --server $SERVERNAME | jq -r`\n",
    "\n",
    "Note: I don't understand the | jq -r, I know | is piping to JSON parsing, however the only difference in output is that this bit removes quotations on same output"
   ]
  },
  {
   "cell_type": "markdown",
   "metadata": {},
   "source": [
    "### Create and configure a Linux virtual machine\n",
    "Step 1: Create VM\n",
    "\n",
    "`az vm create \\\n",
    "  --resource-group $RESOURCEGROUP \\\n",
    "  --name appServer \\\n",
    "  --image UbuntuLTS \\\n",
    "  --size Standard_DS2_v2 \\\n",
    "  --generate-ssh-keys`\n",
    "  "
   ]
  },
  {
   "cell_type": "markdown",
   "metadata": {},
   "source": [
    "Step 2: Connect to public IP address (output of the VM creation)\n",
    "\n",
    "`ssh nnn.nnn.nnn.nn`"
   ]
  },
  {
   "cell_type": "markdown",
   "metadata": {},
   "source": [
    "Step 3: install mssql-tools on Linux VM to connect to database through `sqlcmd`\n",
    "\n",
    "`echo 'export PATH=\"$PATH:/opt/mssql-tools/bin\"' >> ~/.bash_profile\n",
    "echo 'export PATH=\"$PATH:/opt/mssql-tools/bin\"' >> ~/.bashrc\n",
    "source ~/.bashrc\n",
    "curl https://packages.microsoft.com/keys/microsoft.asc | sudo apt-key add -\n",
    "curl https://packages.microsoft.com/config/ubuntu/16.04/prod.list | sudo tee /etc/apt/sources.list.d/msprod.list\n",
    "sudo apt-get update\n",
    "sudo ACCEPT_EULA=Y apt-get install -y mssql-tools unixodbc-dev`\n",
    "\n",
    "I tried typing this all in myself, nothing here worked because I forgot to SSH. Second time I just pasted it all in"
   ]
  },
  {
   "cell_type": "markdown",
   "metadata": {},
   "source": [
    "## Ways to control access to SQL Database\n",
    "1. Firewall rules- initially all public access to DB is blocked by the SQL Db firewall. Rules are configured at teh server and/or database level. Depending on the level, rules you can apply will be as follows:\n",
    "  - Server-level Firewall rules - can all be created and manipulated through portal, PowerShell, CLI, and through Transact-SQL (T-SQL)\n",
    "    - Allow Access to Azure Services\n",
    "    \n",
    "      <img src=\"https://docs.microsoft.com/en-us/learn/modules/secure-your-azure-sql-database/media/2-allow-azure-services.png\">\n",
    "    - IP address rules\n",
    "    \n",
    "      <img src=\"https://docs.microsoft.com/en-us/learn/modules/secure-your-azure-sql-database/media/2-server-ip-rule-1.png\">\n",
    "    - Virtual network rules - limit access to subnets, VNet Address spaces private so you can eliminate exposure to public IP addresses\n",
    "    \n",
    "      <img src=\"https://docs.microsoft.com/en-us/learn/modules/secure-your-azure-sql-database/media/2-vnet-rule.png\">\n",
    "  - Database-level firewall rules - When replicating a database to another server, the database-level rules will be replicated, since they are stored in the database itself. Downside is only IP address rules. Can only be created and manipulated through T-SQL\n",
    "    - IP address rules\n",
    "    \n",
    "      <img src=\"https://docs.microsoft.com/en-us/learn/modules/secure-your-azure-sql-database/media/2-db-ip-rule-1.png\">"
   ]
  },
  {
   "cell_type": "markdown",
   "metadata": {},
   "source": [
    "### Restricting network access in practice\n",
    "Whenever possible, as a best practice, use database-level IP firewall rules to enhance security and to make your database more portable. Use server-level IP firewall rules for administrators and when you ahve several databases with the same access requirements and you don't want to spend time configuring each database individually.\n",
    "\n",
    "Some things I did in this exercise:\n",
    "- Use the server-level allow access to Azure services rule through portal - but allows access from any Azure resource, even outside our subscription\n",
    "- used T-SQL command `EXECUTE` to set database firewall rule in the `sqlcmd` prompt, we then disable Access to Azure Services but we can still connect because we allowed access to the IP address of our SQL server.\n",
    "- Use a server level IP address rule to allow connectivity despite having all Access to Azure Services turned off still and the database rule still turned off.\n",
    "- Used Server-level virtual network rule (added) to allow anyserver in appServerSubnet ip range\n",
    "\n",
    "What we've done here effectively removes any public access to the SQL server, and only permits access from the specific subnet in the Azure VNet we defined. If we were to add additional app servers in that subnet, no additional configuration would be necessary, as any server in that subnet would have the ability to connect to the SQL server. This limits our exposure to services outside of our scope of control, and eases administration if we were to add additional servers. This is an effective method of securing network access to an Azure SQL Database."
   ]
  },
  {
   "cell_type": "markdown",
   "metadata": {},
   "source": [
    "## Authentication\n",
    "SQL Database supports two types of authentication\n",
    "1. SQL Authentication - in master DB or in sub DB\n",
    "2. Azure Active Directory Authentication - Uses identities managed by Azure Active Directory. Use Azure AD authentication (integrated security) whenever possible. Must create server admin called the \"Azure AD admin\""
   ]
  },
  {
   "cell_type": "markdown",
   "metadata": {},
   "source": [
    "## Authorization\n",
    "You can give permission to user accoutn directly or to database role membership"
   ]
  },
  {
   "cell_type": "markdown",
   "metadata": {},
   "source": [
    "## In practice\n",
    "Your application shoudl use a dedicated account to authenticate. This way you can limit permissions granted to the application and reduce the risks of malicious activity in case the application code is vulnerable to a SQL injection attack."
   ]
  },
  {
   "cell_type": "markdown",
   "metadata": {},
   "source": [
    "## Exercise\n",
    "\n",
    "\n",
    "### Create a database user\n",
    "Set up a user and grant access to database. Using SQL authentication but process would be essentially same if using Azure AD\n",
    "`CREATE USER ApplicationUser WITH PASSWORD = 'YourStrongPassword1';\n",
    "GO`"
   ]
  },
  {
   "cell_type": "markdown",
   "metadata": {},
   "source": [
    "### Grant permissions to a user\n",
    "make user a member of `db_datareader` and `db_datawriter` roles\n",
    "\n",
    "`ALTER ROLE db_datareader ADD MEMBER ApplicationUser;\n",
    "ALTER ROLE db_datawriter ADD MEMBER ApplicationUser;\n",
    "GO`\n",
    "\n",
    "Then to Deny SELECT access\n",
    "\n",
    "`DENY SELECT ON SalesLT.Address TO ApplicationUser;\n",
    "GO`"
   ]
  },
  {
   "cell_type": "markdown",
   "metadata": {},
   "source": [
    "Then we log on as user to test out. Didn't work for me - I'll try this again. Did it again and it worked!\n",
    "\n",
    "This lab is annoying as I'm not given a ton of time with the sandbox."
   ]
  },
  {
   "cell_type": "markdown",
   "metadata": {},
   "source": [
    "## Exercise - Secure your data in transit, at rest and on display\n",
    " By using TLS encryption, you can ensure that anyone who may have intercepted the traffic between the app server and database would not be able to read the data. "
   ]
  },
  {
   "cell_type": "markdown",
   "metadata": {},
   "source": [
    "Azure Encrypts data\n",
    "- In transit: Azure SQL Database enforces Transport Layer Security (TLS) encryption at all times for all connections, which ensures all data is encrypted \"in transit\" between the database and the client.TLS encryption is a standard of securing traffic over he internet, and in this case ensures your network traffic to and from your Azure SQL database is secure by default.\n",
    "- At Rest: Azure SQL Database protects your data at rest using transparent data encryption (TDE). TDE performs real-time encryption and decryption of the database, associated backups, and transaction log files at rest without requiring changes to the application. Data is decrypted when loaded into memory and encrypted when put into storage. TDE Enabled by default for all newly deployed Azure SQL Databases.\n",
    "- Dynamic Data bmasking - ewe can limit the data that is displayed to the user. Policy-based security feature that hides the sensitive data in the result set of a query over designated database fields, while the data in the database is not changed. DB admin can control this. You can create your own mask, or use a standard mask such as\n",
    "  - Default value\n",
    "  - Credit card value - last 4 digits\n",
    "  - Email - hides domain name and all but first character of email account name\n",
    "  - Number - which specifies a random number between range of values\n",
    "  - Custom string, number of characters exposed at start of string."
   ]
  },
  {
   "cell_type": "markdown",
   "metadata": {},
   "source": [
    "In the masking exercise, we added the custom string and email masks with the portal appled to the SalesLT.Customer table. Then `SELECT`ed from it as the user and it worked!"
   ]
  },
  {
   "cell_type": "markdown",
   "metadata": {},
   "source": [
    "#### Exercise - Monitor your database\n",
    "Azure SQL Database Auditing - Audit logs written to Appedn blobs in Azure Blob storage account designated. Use azure portal to view the logs, or send them to Log Analytics or Event Hub for further processing and analysis.\n",
    "\n",
    "Best practice - avoid enabling both server blob auditing and database blob auditing together unless:\n",
    "- you want to use a different storage account or retention period for a specific databse\n",
    "- you want to audit event types or categories for a specific database that differs from the rest of the databases on the server. For example, you might have table inserts that need to be audited but only for a specific database."
   ]
  },
  {
   "cell_type": "markdown",
   "metadata": {},
   "source": [
    "### Advanced data Security for Azure SQL Database\n",
    "Advanced SQL security capabilities, including data discovery & classification, vulnerability assessment, and Advanced Threat protection."
   ]
  }
 ],
 "metadata": {
  "kernelspec": {
   "display_name": "Python 3",
   "language": "python",
   "name": "python3"
  },
  "language_info": {
   "codemirror_mode": {
    "name": "ipython",
    "version": 3
   },
   "file_extension": ".py",
   "mimetype": "text/x-python",
   "name": "python",
   "nbconvert_exporter": "python",
   "pygments_lexer": "ipython3",
   "version": "3.8.4"
  }
 },
 "nbformat": 4,
 "nbformat_minor": 4
}
