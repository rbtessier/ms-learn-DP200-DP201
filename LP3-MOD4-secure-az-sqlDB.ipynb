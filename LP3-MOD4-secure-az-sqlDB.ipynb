{
 "cells": [
  {
   "cell_type": "markdown",
   "metadata": {},
   "source": [
    "# Secure your Azure SQL Database\n",
    "Secure your Azure SQL Database to keep your data secure and diagnose potential security concerns as they happen.\n",
    "\n",
    "In this module, you will:\n",
    "\n",
    "1. Control network access to your Azure SQL Database using firewall rules\n",
    "2. Control user access to your Azure SQL Database using authentication and authorization\n",
    "3. Protect your data in transit and at rest\n",
    "4. Audit and monitor your Azure SQL Database for access violations"
   ]
  },
  {
   "cell_type": "markdown",
   "metadata": {},
   "source": [
    "## Exercise - Secure a database\n",
    "First, to show how to secure your database, set up the following resources\n",
    "- A Linux VM named appServer. This server will act as the application server that users would be connecting to, and will need to connect to the database. We'll install sqlcmd on the VM to simulate an application running on appServer making connections to the database.\n",
    "- An Azure SQL Database logical server. This logical server is needed to host one or more databases.\n",
    "- A database on our logical server called marketplaceDb. We'll create it using the AdventureWorksLT demo database so we have some tables and data to work with. This will include some sensitive data, such as email addresses and phone numbers that we'll want to make sure are properly secured."
   ]
  },
  {
   "cell_type": "markdown",
   "metadata": {},
   "source": [
    "### Create Azure SQL DB\n",
    "\n",
    "Step 1: In Bash set up variables \n",
    "\n",
    "Set an admin login and password for your database\n",
    "\n",
    "`export ADMINLOGIN='[ServerAdmin]'\n",
    "export PASSWORD='[password]'`\n",
    "\n",
    "Set the logical SQL server name. We'll add a random string as it needs to be globally unique.\n",
    "\n",
    "`export SERVERNAME=server$RANDOM\n",
    "export RESOURCEGROUP=learn-070869d0-8594-4673-8283-02d536c2e17d`\n",
    "\n",
    "Set the location, we'll pull the location from our resource group. REMEMBER THIS\n",
    "\n",
    "`export LOCATION=$(az group show --name $RESOURCEGROUP | jq -r '.location')`"
   ]
  },
  {
   "cell_type": "markdown",
   "metadata": {},
   "source": [
    "Step 2: Create Azure SQL DB logical server\n",
    "\n",
    "`az sql server create \\\n",
    "    --name $SERVERNAME \\\n",
    "    --resource-group $RESOURCEGROUP \\\n",
    "    --location $LOCATION \\\n",
    "    --admin-user $ADMINLOGIN \\\n",
    "    --admin-password \"$PASSWORD\"`\n",
    "   "
   ]
  },
  {
   "cell_type": "markdown",
   "metadata": {},
   "source": [
    "Step 3: Create the `marketplaceDb` on the logical server just created, use *AdventureWorksLT* databse as template\n",
    "\n",
    "`az sql db create --resource-group $RESOURCEGROUP \\\n",
    "    --server $SERVERNAME \\\n",
    "    --name marketplaceDb \\\n",
    "    --sample-name AdventureWorksLT \\\n",
    "    --service-objective Basic`"
   ]
  },
  {
   "cell_type": "markdown",
   "metadata": {},
   "source": [
    "Step 4: Get connection string for DB\n",
    "\n",
    "`az sql db show-connection-string --client sqlcmd --name marketplaceDb --server $SERVERNAME | jq -r`\n",
    "\n",
    "Note: I don't understand the | jq -r, I know | is piping to JSON parsing, however the only difference in output is that this bit removes quotations on same output"
   ]
  },
  {
   "cell_type": "markdown",
   "metadata": {},
   "source": [
    "### Create and configure a Linux virtual machine\n",
    "Step 1: Create VM\n",
    "\n",
    "`az vm create \\\n",
    "  --resource-group $RESOURCEGROUP \\\n",
    "  --name appServer \\\n",
    "  --image UbuntuLTS \\\n",
    "  --size Standard_DS2_v2 \\\n",
    "  --generate-ssh-keys`\n",
    "  "
   ]
  },
  {
   "cell_type": "markdown",
   "metadata": {},
   "source": [
    "Step 2: Connect to public IP address (output of the VM creation)\n",
    "\n",
    "`ssh nnn.nnn.nnn.nn`"
   ]
  },
  {
   "cell_type": "markdown",
   "metadata": {},
   "source": [
    "Step 3: install mssql-tools on Linux VM to connect to database through `sqlcmd`\n",
    "\n",
    "`echo 'export PATH=\"$PATH:/opt/mssql-tools/bin\"' >> ~/.bash_profile\n",
    "echo 'export PATH=\"$PATH:/opt/mssql-tools/bin\"' >> ~/.bashrc\n",
    "source ~/.bashrc\n",
    "curl https://packages.microsoft.com/keys/microsoft.asc | sudo apt-key add -\n",
    "curl https://packages.microsoft.com/config/ubuntu/16.04/prod.list | sudo tee /etc/apt/sources.list.d/msprod.list\n",
    "sudo apt-get update\n",
    "sudo ACCEPT_EULA=Y apt-get install -y mssql-tools unixodbc-dev`\n",
    "\n",
    "I tried typing this all in myself, nothing here worked because I forgot to SSH. Second time I just pasted it all in"
   ]
  },
  {
   "cell_type": "markdown",
   "metadata": {},
   "source": [
    "## Ways to control access to SQL Database\n",
    "1. Firewall rules- initially all public access to DB is blocked by the SQL Db firewall. Rules are configured at teh server and/or database level. Depending on the level, rules you can apply will be as follows:\n",
    "  - Server-level Firewall rules - can all be created and manipulated through portal, PowerShell, CLI, and through Transact-SQL (T-SQL)\n",
    "    - Allow Access to Azure Services\n",
    "    \n",
    "      <img src=\"https://docs.microsoft.com/en-us/learn/modules/secure-your-azure-sql-database/media/2-allow-azure-services.png\">\n",
    "    - IP address rules\n",
    "    \n",
    "      <img src=\"https://docs.microsoft.com/en-us/learn/modules/secure-your-azure-sql-database/media/2-server-ip-rule-1.png\">\n",
    "    - Virtual network rules - limit access to subnets, VNet Address spaces private so you can eliminate exposure to public IP addresses\n",
    "    \n",
    "      <img src=\"https://docs.microsoft.com/en-us/learn/modules/secure-your-azure-sql-database/media/2-vnet-rule.png\">\n",
    "  - Database-level firewall rules - When replicating a database to another server, the database-level rules will be replicated, since they are stored in the database itself. Downside is only IP address rules. Can only be created and manipulated through T-SQL\n",
    "    - IP address rules\n",
    "    \n",
    "      <img src=\"https://docs.microsoft.com/en-us/learn/modules/secure-your-azure-sql-database/media/2-db-ip-rule-1.png\">"
   ]
  },
  {
   "cell_type": "code",
   "execution_count": null,
   "metadata": {},
   "outputs": [],
   "source": []
  }
 ],
 "metadata": {
  "kernelspec": {
   "display_name": "Python 3",
   "language": "python",
   "name": "python3"
  },
  "language_info": {
   "codemirror_mode": {
    "name": "ipython",
    "version": 3
   },
   "file_extension": ".py",
   "mimetype": "text/x-python",
   "name": "python",
   "nbconvert_exporter": "python",
   "pygments_lexer": "ipython3",
   "version": "3.8.4"
  }
 },
 "nbformat": 4,
 "nbformat_minor": 4
}
