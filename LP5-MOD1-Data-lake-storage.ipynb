{
 "cells": [
  {
   "cell_type": "markdown",
   "metadata": {},
   "source": [
    "# Compare Azure Data Lake Store to Azure Blob storage\n",
    "\n",
    "In Azure Blob storage, you can store large amounts of unstructured (\"object\") data, in a single hierarchy, also known as a flat namespace. You can access this data by using HTTP or HTTPs. Azure Data Lake Storage Gen2 builds on blob storage and optimizes I/O of high-volume data by using hierarchical namespaces that you turned on in the previous exercise.\n",
    "\n",
    "Hierarchical namespaces organize blob data into directories and stores metadata about each directory and the files within it. This structure allows operations, such as directory renames and deletes, to be performed in a single atomic operation. Flat namespaces, by contrast, require several operations proportionate to the number of objects in the structure. Hierarchical namespaces keep the data organized, which yields better storage and retrieval performance for an analytical use case and lowers the cost of analysis.\n",
    "\n",
    "# Azure Blob storage vs. Azure Data Lake Storage\n",
    "If you want to store data without performing analysis on the data, set the Hierarchical Namespace option to Disabled to set up the storage account as an Azure Blob storage account. You can also use blob storage to archive rarely used data or to store website assets such as images and media.\n",
    "\n",
    "If you are performing analytics on the data, set up the storage account as an Azure Data Lake Storage Gen2 account by setting the Hierarchical Namespace option to Enabled. Because Azure Data Lake Storage Gen2 is integrated into the Azure Storage platform, applications can use either the Blob APIs or the Azure Data Lake Storage Gen2 file system APIs to access data."
   ]
  },
  {
   "cell_type": "markdown",
   "metadata": {},
   "source": [
    "# Understand the stages for processing big data by using Azure Data Lake Store\n",
    "\n",
    "There are four stages for processing big data solutions that are common to all architectures:\n",
    "\n",
    "1. Ingestion - The ingestion phase identifies the technology and processes that are used to acquire the source data. This data can come from files, logs, and other types of unstructured data that must be put into the Data Lake Store. The technology that is used will vary depending on the frequency that the data is transferred. For example, for batch movement of data, Azure Data Factory may be the most appropriate technology to use. For real-time ingestion of data, Apache Kafka for HDInsight or Stream Analytics may be an appropriate technology to use.\n",
    "\n",
    "2. Store - The store phase identifies where the ingested data should be placed. In this case, we're using Azure Data Lake Storage Gen2.\n",
    "\n",
    "3. Prep and train - The prep and train phase identifies the technologies that are used to perform data preparation and model training and scoring for data science solutions. The common technologies that are used in this phase are Azure Databricks, Azure HDInsight or Azure Machine Learning Services.\n",
    "\n",
    "4. Model and serve - Finally, the model and serve phase involves the technologies that will present the data to users. These can include visualization tools such as Power BI, or other data stores such as Azure Synapse Analytics, Azure Cosmos DB, Azure SQL Database, or Azure Analysis Services. Often, a combination of these technologies will be used depending on the business requirements."
   ]
  },
  {
   "cell_type": "markdown",
   "metadata": {},
   "source": [
    "# Architectures Data Warehouse\n",
    "\n",
    "https://docs.microsoft.com/en-us/learn/modules/introduction-to-azure-data-lake-storage/6-use-cases\n",
    "\n",
    "1. Modern data warehouse: <img src=https://docs.microsoft.com/en-us/learn/data-ai-cert/introduction-to-azure-data-lake-storage/media/6-modern-data-warehouse.jpg>\n",
    "\n",
    "2. Advanced Analytics for big data: <img src=https://docs.microsoft.com/en-us/learn/data-ai-cert/introduction-to-azure-data-lake-storage/media/6-advanced-analytics.jpg>\n",
    "\n",
    "3. Real-time Analytical Solutions: <img src=https://docs.microsoft.com/en-us/learn/data-ai-cert/introduction-to-azure-data-lake-storage/media/6-real-time-analytics.jpg>"
   ]
  },
  {
   "cell_type": "code",
   "execution_count": null,
   "metadata": {},
   "outputs": [],
   "source": []
  }
 ],
 "metadata": {
  "kernelspec": {
   "display_name": "Python 3",
   "language": "python",
   "name": "python3"
  },
  "language_info": {
   "codemirror_mode": {
    "name": "ipython",
    "version": 3
   },
   "file_extension": ".py",
   "mimetype": "text/x-python",
   "name": "python",
   "nbconvert_exporter": "python",
   "pygments_lexer": "ipython3",
   "version": "3.8.4"
  }
 },
 "nbformat": 4,
 "nbformat_minor": 4
}
