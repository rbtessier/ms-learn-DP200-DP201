{
 "cells": [
  {
   "cell_type": "markdown",
   "metadata": {},
   "source": [
    "Good summary of SQL Database Creation requirements: https://docs.microsoft.com/en-us/learn/modules/develop-app-that-queries-azure-sql/2-create-tables-bulk-import-query-data\n",
    "\n",
    "Infact, I should reference this when doing my own data import for work."
   ]
  },
  {
   "cell_type": "markdown",
   "metadata": {},
   "source": [
    "## Create table\n",
    "you can use any of these tools to creat tables:\n",
    "- The query editor in the Azure portal\n",
    "- The `sqlcmd` utility and Cloud Shell\n",
    "- SQL Server Managment Studio\n",
    "\n",
    "Define the table by using the `CREATE TABLE` SQL command."
   ]
  },
  {
   "cell_type": "markdown",
   "metadata": {},
   "source": [
    "When using Query Editor in the SQL database, can use SQL server authentication to use the admin username and password created when DB was created. OR you can use the active directory sign on if you set this up. I'm not sure if I did, but this really feels like an exam question waiting to happen!"
   ]
  },
  {
   "cell_type": "markdown",
   "metadata": {},
   "source": [
    "## Bulk import data with bcp\n",
    "Microsoft provides several tools that you can use to upload data to your SQL database:\n",
    "- SQL Server Integration Services (SSIS)\n",
    "- The SQL *BULK INSERT* statement\n",
    "- The Bulk Copy Program (bcp) utility"
   ]
  },
  {
   "cell_type": "markdown",
   "metadata": {},
   "source": [
    "`bcp` utility is used because its conveninet and can be easily scripted to import data into multiple tables. To import data, `bcp` requires three things\n",
    "- The source data to upload\n",
    "- An existing table in the destination database\n",
    "- A *format file* that defines the format of the data and how to map the data to columns in the destination table.\n",
    "\n",
    "info on bcp: https://docs.microsoft.com/en-us/sql/tools/bcp-utility?view=sql-server-ver15"
   ]
  },
  {
   "cell_type": "markdown",
   "metadata": {},
   "source": [
    "`bcp` requires a format file."
   ]
  },
  {
   "cell_type": "markdown",
   "metadata": {},
   "source": [
    "## Helpful Links\n",
    "https://docs.microsoft.com/en-us/learn/modules/develop-app-that-queries-azure-sql/6-summary\n",
    "- [Tutorial: Design a relational database in a single database within Azure AQL Database using SSMS](https://docs.microsoft.com/en-us/azure/sql-database/sql-database-design-first-database)\n",
    "- [Quickstart: Use .NET Core(C#) to query an Azure SQL Database](https://docs.microsoft.com/en-us/azure/sql-database/sql-database-connect-query-dotnet-core)\n",
    "- [Tutorial: Build an ASP.NET app in Azure with SQL Database](https://docs.microsoft.com/en-us/azure/app-service/app-service-web-tutorial-dotnet-sqldatabase)\n",
    "- [Choose among the vCore service tiers and migrate from the DTU service tiers](https://docs.microsoft.com/en-us/azure/sql-database/sql-database-service-tiers-vcore)\n",
    "- [Service tiers in the DTU-based purchase model](https://docs.microsoft.com/en-us/azure/sql-database/sql-database-service-tiers-dtu)"
   ]
  },
  {
   "cell_type": "code",
   "execution_count": null,
   "metadata": {},
   "outputs": [],
   "source": []
  }
 ],
 "metadata": {
  "kernelspec": {
   "display_name": "Python 3",
   "language": "python",
   "name": "python3"
  },
  "language_info": {
   "codemirror_mode": {
    "name": "ipython",
    "version": 3
   },
   "file_extension": ".py",
   "mimetype": "text/x-python",
   "name": "python",
   "nbconvert_exporter": "python",
   "pygments_lexer": "ipython3",
   "version": "3.8.4"
  }
 },
 "nbformat": 4,
 "nbformat_minor": 4
}
