{
 "cells": [
  {
   "cell_type": "markdown",
   "metadata": {},
   "source": [
    "# Learning Path: Work with Relational Data in Azure\n",
    "Located here https://docs.microsoft.com/en-us/learn/paths/work-with-relational-data-in-azure/"
   ]
  },
  {
   "cell_type": "markdown",
   "metadata": {},
   "source": [
    "## MOD 3: Scale multiple Azure SQL Databases with SQL elastic pools\n",
    "\n",
    "SQL database elastic pools are a cost-effective service that can manage and scale multiple Azure SQL databases that have varying and unpredictable resource requirements.\n",
    "\n",
    "In this module, you'll learn how to use SQL Elastic POols to scale, manage performance, and manage costs for collections of Azure SQL databases.\n",
    "\n",
    "### Learning objectives\n",
    "In this module, you will\n",
    "- Create and elastic pool\n",
    "- Add databases to an elastic pool\n",
    "- Configure database performance in an elastic pool"
   ]
  },
  {
   "cell_type": "markdown",
   "metadata": {},
   "source": [
    "### What is a SQL Elastic Pool\n",
    "SQL elastic pools are a resource allocation service used to scale and manage the performance and cost of a group of Azure SQL databases. Elastic pools allow you to purchase resources for the group. You set the amount of resources available to the pool, add databases to the pool, and set minimum and maximum resource limits for the databases within the pool.\n",
    "\n",
    "Pool resource requirements are set based on the overall needs of the group. The pool allows the databases within the pool to share the allocated resources. SQL elastic poolsa re used to manage the budget and performance of multiple SQL databases."
   ]
  },
  {
   "cell_type": "markdown",
   "metadata": {},
   "source": [
    "### When to use an elastic pool?\n",
    "SQL elastic pools are ideal when you have several SQL databases that have a low average utilization, but have infrequent, high utilization spikes. In this scenario, you can allocate enough capacity in the pool to manage the spikes for the group, but the total resources can be less than the sum of all of the peak demand of all of the databases. Since the spikes are infrequent, a spike from one database will be unlikely to impact the capacity of the other databases in the pool.\n",
    "\n",
    "Traditional SaaS providers either need to over-provision resources to ensure they have capacity for peak demand, which adds cost, or under-provision, which could impact performance during high demand."
   ]
  },
  {
   "cell_type": "markdown",
   "metadata": {},
   "source": [
    "General guidance, if the combined resources you would need for individual databases to meet capacity spikes is more than 1.5 times the capacity for the elastic pool, then the pool will be cost effective.\n",
    "\n",
    "Specifically, sometimes companies need a SQL DB for each customer, in the exercise, we do it for each location."
   ]
  },
  {
   "cell_type": "markdown",
   "metadata": {},
   "source": [
    "#### Creating elastic pools\n",
    "- from **Portal**\n",
    "- from **Azure CLI** using `az sql elastic-pools create` command\n",
    "- **PowerShell** using `New-AzSqlElasticPool`"
   ]
  },
  {
   "cell_type": "markdown",
   "metadata": {},
   "source": [
    "#### Add databases to an elastic pool\n",
    "Can use Azure portal, Azure CLI, or PowerShell\n",
    "- **Portal:** can add new pool to existing SQL server or create new SQL elastic pool resource and specify server\n",
    "- **CLI:** `az sql db create` and specify pool name using `--elastic-pool-name` parameter. Can move existing DB into the pool or create new one if it doesn't exist\n",
    "- **Powershell:** assign new DB to pool using `New-AzSqlDatabase` and move existing using `Set-AzSqlDatabase`\n",
    "\n",
    "You can mix service tiers within same pool."
   ]
  },
  {
   "cell_type": "markdown",
   "metadata": {},
   "source": [
    "### Exercise for Elastic pools\n",
    "Databases can be aded, using the Azure portal, the Azure CLI, or powershell. Here we will add using Cloudshell in browser. Below I will note how to do things\n",
    "\n",
    "We have to create two Azure SQL databases to represent two fitness locations (Paris and Vancouver), and create a SQL elastic pool to manage the two.\n",
    "\n",
    "Tip: Learned that to view the helper variables below, I type `echo $<variable>` into bash"
   ]
  },
  {
   "cell_type": "markdown",
   "metadata": {},
   "source": [
    "#### Create SQL Server"
   ]
  },
  {
   "cell_type": "markdown",
   "metadata": {},
   "source": [
    "**Step 1: Declare helper variables in CloudShell**\n",
    "\n",
    "`ADMIN_LOGIN=\"ServerAdmin\"\n",
    "RESOURCE_GROUP=<resoruce group>\n",
    "SERVERNAME=FitnessSQLServer-$RANDOM`note: this creates random number after the `-`\n",
    "\n",
    "`LOCATION=<location>\n",
    "PASSWORD=<password>`"
   ]
  },
  {
   "cell_type": "markdown",
   "metadata": {},
   "source": [
    "**Step 2: Create a server named `FitnessSQLServer-nnnn` where `nnnn` is the random number\n",
    "\n",
    "`az sql server create \\\n",
    "--name $SERVERNAME \\\n",
    "--resource-group $RESOURCE_GROUP \\\n",
    "--location $LOCATION \\\n",
    "--admin-user $ADMIN_LOGIN \\\n",
    "--admin-password $PASSWORD`\n"
   ]
  },
  {
   "cell_type": "markdown",
   "metadata": {},
   "source": [
    "**Step 3: Add a database named `FitnessVancouverDB` to `FitnessSQLServer-nnnn`**\n",
    "\n",
    "`az sql db create \\\n",
    "--resource-group $RESOURCE_GROUP \\\n",
    "--server $SERVERNAME \\\n",
    "--name FitnessVancouverDB`"
   ]
  },
  {
   "cell_type": "markdown",
   "metadata": {},
   "source": [
    "**Step 4: Add a database named `FitnessParisDB` to `FitnessSQLServer-nnnn`**\n",
    "`az sql db create \\\n",
    "--resource-group $RESOURCE_GROUP \\\n",
    "--server $SERVERNAME \\\n",
    "--name FitnessParisDB`"
   ]
  },
  {
   "cell_type": "markdown",
   "metadata": {},
   "source": [
    "#### Create a SQL elastic pool\n",
    "We're ready to set up the resources for the SQL elastic pool. We'll switch to the portal to create the elastic pool.\n",
    "\n",
    "1. Sign into the Azure portal  using the same account you used to activate the sandbox.\n",
    "\n",
    "2. From the Azure portal menu or the Home page, select Create a resource. Search for and select SQL Elastic database pool.\n",
    "\n",
    "3. Select the SQL Elastic database pool result and then press the Create button on the next screen.\n",
    "\n",
    "4. Give your new elastic pool a meaningful name such as FitnessSQLPool, and ensure the learn-99539076-fc23-4e18-b25c-a1e3e05086bf resource group is selected.\n",
    "\n",
    "5. In the Server section, ensure your existing FitnessSQLServer-nnnn server is selected\n",
    "\n",
    "6. In the Compute + storage section, click Configure elastic pool.\n",
    "\n",
    "7. Click Basic, and then click Apply.\n",
    "\n",
    "8. Click Review + create. Review your information, and then click Create. The SQL elastic pool may take several minutes to provision."
   ]
  },
  {
   "cell_type": "markdown",
   "metadata": {},
   "source": [
    "##### Add existing databases to the elastic pool\n",
    "1. Open your newly created SQL elastic pool in the Azure portal and navigate to the Overview section. Note there are currently no databases in the pool.\n",
    "\n",
    "2. Select Configure in the Settings section.\n",
    "\n",
    "3. Select the Databases tab.\n",
    "\n",
    "4. Click + Add databases.\n",
    "\n",
    "5. Select the databases for both locations.\n",
    "\n",
    "6. Click Apply.\n",
    "\n",
    "7. Click Save.\n",
    "\n",
    "Congratulations, you've successfully added databases to a SQL elastic pool."
   ]
  },
  {
   "cell_type": "markdown",
   "metadata": {},
   "source": [
    "<img src=\"https://docs.microsoft.com/en-us/learn/modules/scale-sql-databases-elastic-pools/media/dtuvcore.png\">"
   ]
  },
  {
   "cell_type": "markdown",
   "metadata": {},
   "source": [
    "### Exercise - Manage SQL Elastic pools"
   ]
  },
  {
   "cell_type": "markdown",
   "metadata": {},
   "source": [
    "#### Adjust elastic pool settings\n",
    "\n",
    "1. Sign into the Azure portal  using the same account you used to activate the sandbox.\n",
    "\n",
    "2. Search for and select the SQL elastic pool you created in the previous exercise. Search for and select All resources to browse for your SQL elastic pool.\n",
    "\n",
    "3. Click on Configure in the Settings section.\n",
    "\n",
    "4. Here you can select either a DTU-based or vCore-based pricing model by selecting the service tier for the elastic pool; select Basic and click Save.\n",
    "\n",
    "5. Within each tier, you can change the number of eDTUs for the pool; change the eDTUs to 200 and click Save.\n",
    "\n",
    "6. Observe the Cost summary on the right, which shows the estimated monthly cost of your elastic pool."
   ]
  },
  {
   "cell_type": "markdown",
   "metadata": {},
   "source": [
    "#### Adjust per database settings\n",
    "1. Click on the *Per database settings tab.\n",
    "\n",
    "2. Change the max and min eDTUs and click Save.\n",
    "\n",
    "3. Observe the Cost summary on the right, which updates the estimated monthly cost of your elastic pool based on your new settings."
   ]
  },
  {
   "cell_type": "markdown",
   "metadata": {},
   "source": [
    "#### Create a new database in the pool\n",
    "1. Go to the Overview section.\n",
    "\n",
    "2. Click + Create database.\n",
    "\n",
    "3. Give your new database a meaningful name such as FitnessLondonDB and press OK."
   ]
  },
  {
   "cell_type": "markdown",
   "metadata": {},
   "source": [
    "### Notes on the knowledge check\n",
    "- You CAN use multiple elastic pools with a single server\n",
    "- Hosting several SQL servers to track election data wouldn't be a better case than managing cloud platform tha ttracks inventory for car dealerships because the election  databases would all spike uniformily and aat the same time. Likely each Car dealerships data would be stored in separate databases. This would benefit from elastic pools - spikes at different times.\n",
    "- Hosting several SQL servers in elastic pool for car dealerships would be better than popular gaming website with customer data stored in an Azure SQL server since adding a single database to elastic pool will not provide any cost or performance benefits."
   ]
  },
  {
   "cell_type": "markdown",
   "metadata": {},
   "source": [
    "## Summary and additional resources\n",
    "SQL elastic pools give you elastic performance for a group of databases while giving you control over your monthly data storage expenses.\n",
    "\n",
    "If you're running multiple databases with usage spikes, or operating as SaaS provider like our fitness company, SQL elastic pools can help both improve performance and reduce costs.\n",
    "\n",
    "- https://docs.microsoft.com/en-us/azure/sql-database/sql-database-elastic-pool - elastic pools help you manage and scale multiple azure SQL DBs\n",
    "- https://docs.microsoft.com/en-us/azure/sql-database/sql-database-purchase-models - Choose between VCore and DTU's\n",
    "- https://dtucalculator.azurewebsites.net/ - SQL DB DTU CALCULATOR"
   ]
  },
  {
   "cell_type": "code",
   "execution_count": null,
   "metadata": {},
   "outputs": [],
   "source": []
  }
 ],
 "metadata": {
  "kernelspec": {
   "display_name": "Python 3",
   "language": "python",
   "name": "python3"
  },
  "language_info": {
   "codemirror_mode": {
    "name": "ipython",
    "version": 3
   },
   "file_extension": ".py",
   "mimetype": "text/x-python",
   "name": "python",
   "nbconvert_exporter": "python",
   "pygments_lexer": "ipython3",
   "version": "3.8.4"
  }
 },
 "nbformat": 4,
 "nbformat_minor": 4
}
