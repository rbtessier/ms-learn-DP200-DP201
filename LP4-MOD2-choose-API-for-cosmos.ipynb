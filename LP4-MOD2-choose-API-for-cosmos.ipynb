{
 "cells": [
  {
   "cell_type": "markdown",
   "metadata": {},
   "source": [
    "# [Choose the appropriate API for Azure Cosmos DB](https://docs.microsoft.com/en-us/learn/modules/choose-api-for-cosmos-db/)\n",
    "Compare the different APIs available in Azure Cosmos DB, highlighting and constrasting the different scenarios that would make them a good choice for a company.\n",
    "\n",
    "- Explain the features of Core (SQL)\n",
    "- Explain the features of MongoDB\n",
    "- Explain the features of the Cassandra\n",
    "- Explain the features of the Azure Table\n",
    "- Explain the features of the Gremlin (graph)\n",
    "- Choose the appropriate API for your Azure Cosmos DB account"
   ]
  },
  {
   "cell_type": "markdown",
   "metadata": {},
   "source": [
    "Azure Cosmos DB is flexible. At the lowest level, Azure Cosmos DB stores data in atom-record-sequence (ARS) format. The data is then abstracted and projected as an API, which you specify when you are creating your database. It is globally distributed, built to be elastically scalable, with guaranteed latencies and availability, and supports dev teams existing DB knowledge - backed by a comprehaensive set of SLA's.\n",
    "\n",
    "To ensure consistency (as this can be an issue with distributed systems) offers 5 different consistentcy levels\n",
    "1. Strong\n",
    "2. Bounded staleness\n",
    "3. Session\n",
    "4. Consistent prefix\n",
    "5. Eventual"
   ]
  },
  {
   "cell_type": "markdown",
   "metadata": {},
   "source": [
    "Cool pic:\n",
    "<img src='https://docs.microsoft.com/en-us/learn/modules/choose-api-for-cosmos-db/media/azure-cosmos-db.png'>"
   ]
  },
  {
   "cell_type": "markdown",
   "metadata": {},
   "source": [
    "# Core (SQL) API\n",
    "Default for COsmos. Traditional NoSQL document store. YOu can query the hierarchical JSON documents with a SQL-like language. Core (SQL) uses JavaScript's type system, expression evaluation, and function invocation.\n",
    "\n",
    "For developers who have experience with the SQL query language, Core (SQL) provides several familiar SQL statements and clauses; for example:\n",
    "\n",
    "- `SELECT`\n",
    "- `FROM`\n",
    "- `WHERE`\n",
    "- `BETWEEN`\n",
    "- `COUNT`\n",
    "- `SUM`\n",
    "- `MIN`\n",
    "- `MAX`\n",
    "- `ORDER BY`"
   ]
  },
  {
   "cell_type": "markdown",
   "metadata": {},
   "source": [
    "# MongoDB API\n",
    "Cosmoc supports the MongoDB wire protocol. This API allows existing MongoDB client SDKs, drivers, and tools to interact with data transperently, as if running against actual MongoDB database.Data stored in document format, which is same as using Core (SQL). Currently compatible with 3.2 version of MongoDB wire protocol."
   ]
  },
  {
   "cell_type": "markdown",
   "metadata": {},
   "source": [
    "# Cassandra API\n",
    "This API makes it possible to query data using Cassandra Query Language (CQL), data will appear to be a partitioned row store. CUrrently supports version 4 of CQL wire protocol, provides familiar CQL statements and clauses\n",
    "\n",
    "- CREATE KEYSPACE\n",
    "- CREATE TABLE\n",
    "- ALTER TABLE\n",
    "- USE\n",
    "- INSERT\n",
    "- SELECT\n",
    "- UPDATE\n",
    "- BATCH (Only unlogged commands are supported)\n",
    "- DELETE"
   ]
  },
  {
   "cell_type": "markdown",
   "metadata": {},
   "source": [
    "# Azure Table API\n",
    "Supports applications that are written in Azure Table Storage that need premium capabilities like global distribution, high availability, scalable throughput. Original Table API only allows for indexing on the Partition and Row keys; there are no secondary indexes. Storing table data in Cosmos DB automatically indexes all the properties, and requires no index management.\n",
    "\n",
    "Query using OData and LINQ queries in code, and the original REST API for GET operations."
   ]
  },
  {
   "cell_type": "markdown",
   "metadata": {},
   "source": [
    "# Gremlin (graph) API\n",
    "Choosing Gremlin provides a graph-based view over the data. Since all data stored in ARS format, graph based view on the db means data is either a vertex (individual item in the database) or an edge (relationship between items in the database)\n",
    "\n",
    "Azure supports Apache Tinkerpop's Gremlin language."
   ]
  },
  {
   "cell_type": "markdown",
   "metadata": {},
   "source": [
    "# [Analyze the decision criteria](https://docs.microsoft.com/en-us/learn/modules/choose-api-for-cosmos-db/3-analyze-the-decision-criteria)\n",
    "Includes a table, but summary: new projects should be done with Core (SQL), Metadata/relationships with Gremlin, and existing projects with the additional API's for ease of migration."
   ]
  },
  {
   "cell_type": "markdown",
   "metadata": {},
   "source": [
    "# Some uses for each API\n",
    "\n",
    "`note` this module is hilarious in how hard it stans Core (SQL). I remember watching a video talking about how Microsoft was a friendly company. Its friendly, but it uses its learning material to sell you on its products. SOOO funny. \n",
    "\n",
    "its also great that they actively discourage MongoDB, Cassandra and Table API, because that's less for me to learn! :)\n",
    "\n",
    "- [Use Core (SQL) to store a product catalog](https://docs.microsoft.com/en-us/learn/modules/choose-api-for-cosmos-db/4-use-the-core-sql-api-to-store-a-product-catalog)\n",
    "- [Use the gremlin (graph) API as a recommendation engine](https://docs.microsoft.com/en-us/learn/modules/choose-api-for-cosmos-db/5-use-the-gremlin-graph-api-as-a-recommendation-engine)\n",
    "- [Use MongoDB to import historical order data (unless you're starting from scratch)](https://docs.microsoft.com/en-us/learn/modules/choose-api-for-cosmos-db/6-use-the-mongodb-api-to-import-historical-order-data)\n",
    "- [Use Cassandra for web analytics(unless your team has experience with Core (SQL))](https://docs.microsoft.com/en-us/learn/modules/choose-api-for-cosmos-db/7-use-the-cassandra-api-for-web-analytics)\n",
    "- [Use Azure Table API to store IoT data(unless starting new)](https://docs.microsoft.com/en-us/learn/modules/choose-api-for-cosmos-db/8-use-the-azure-table-api-to-store-iot-data)"
   ]
  },
  {
   "cell_type": "markdown",
   "metadata": {},
   "source": [
    "If you already have an existing application or database that is using one of the other APIs, then the current API might be a better choice for your specific scenario. Using the current API might make it easier to:\n",
    "\n",
    "- Migrate your application or database to Azure Cosmos DB\n",
    "- Reuse your existing code with minimal changes\n",
    "- Leverage the existing knowledge and experience of your development team."
   ]
  },
  {
   "cell_type": "markdown",
   "metadata": {},
   "source": [
    "More Resources\n",
    "- [Azure Cosmos DB](https://docs.microsoft.com/en-us/azure/cosmos-db)\n",
    "- [Modeling data](https://docs.microsoft.com/en-us/azure/cosmos-db/modeling-data)\n",
    "- [MongoDB](https://docs.microsoft.com/en-us/azure/cosmos-db/mongodb-introduction)\n",
    "- [Cassandra](https://docs.microsoft.com/en-us/azure/cosmos-db/cassandra-introduction)\n",
    "- [Table API](https://docs.microsoft.com/en-us/azure/cosmos-db/table-introduction)"
   ]
  },
  {
   "cell_type": "code",
   "execution_count": null,
   "metadata": {},
   "outputs": [],
   "source": []
  }
 ],
 "metadata": {
  "kernelspec": {
   "display_name": "Python 3",
   "language": "python",
   "name": "python3"
  },
  "language_info": {
   "codemirror_mode": {
    "name": "ipython",
    "version": 3
   },
   "file_extension": ".py",
   "mimetype": "text/x-python",
   "name": "python",
   "nbconvert_exporter": "python",
   "pygments_lexer": "ipython3",
   "version": "3.8.4"
  }
 },
 "nbformat": 4,
 "nbformat_minor": 4
}
